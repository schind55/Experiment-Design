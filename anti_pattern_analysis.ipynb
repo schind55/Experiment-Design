{
 "cells": [
  {
   "cell_type": "markdown",
   "id": "45c640b6",
   "metadata": {},
   "source": [
    "## Analysing the identical lines of code within notebooks in DASWOW dataset\n",
    "** Number of lines of code that is identically (i.e., type-1) cloned, appearing at least three or more times. \n",
    "\n",
    "** The purpose of the code is identified using the primary label of the cell where every time the code appears. "
   ]
  },
  {
   "cell_type": "code",
   "execution_count": null,
   "id": "1a323524",
   "metadata": {},
   "outputs": [],
   "source": [
    "no_clones = 3 #set the appearance"
   ]
  },
  {
   "cell_type": "code",
   "execution_count": null,
   "id": "8e100d39",
   "metadata": {},
   "outputs": [],
   "source": [
    "#os related operations\n",
    "import os \n",
    "from os import listdir\n",
    "from os.path import isfile, join\n",
    "\n",
    "import random\n",
    "import json\n",
    "import numpy as np\n",
    "import pandas as pd\n",
    "import collections\n",
    "from shutil import copyfile,copy\n",
    "\n",
    "from glob import glob\n",
    "\n",
    "import matplotlib.pyplot as plt\n",
    "import seaborn as sns\n",
    "sns.set_style(\"darkgrid\")"
   ]
  },
  {
   "cell_type": "code",
   "execution_count": null,
   "id": "59a226fa",
   "metadata": {},
   "outputs": [],
   "source": [
    "# set path\n",
    "path = os.getcwd()\n",
    "features_path = os.path.join(path,'features','')\n",
    "results_path = os.path.join(path,'results','f_label_distribution','')\n",
    "\n",
    "if os.path.exists(results_path):\n",
    "    pass\n",
    "else:\n",
    "    os.mkdir(results_path)"
   ]
  },
  {
   "cell_type": "code",
   "execution_count": null,
   "id": "11a3d8f5",
   "metadata": {},
   "outputs": [],
   "source": [
    "# load the dataset\n",
    "daswow_df = pd.read_pickle(features_path+'f_DASWOW.pkl')\n",
    "daswow_df.shape"
   ]
  },
  {
   "cell_type": "code",
   "execution_count": null,
   "id": "b392012f",
   "metadata": {},
   "outputs": [],
   "source": [
    "notebooks = daswow_df.groupby('filename')"
   ]
  },
  {
   "cell_type": "code",
   "execution_count": null,
   "id": "8aad8311",
   "metadata": {},
   "outputs": [],
   "source": [
    "def get_clone_line_sets(unique_loc_clone_list):\n",
    "    clone_sets_in_dataset = {}\n",
    "    for k,v in unique_loc_clone_list:\n",
    "        #for each notebook, create a new clone set\n",
    "        #print(\"notebook \", k)\n",
    "        clone_sets=[]\n",
    "        #for each clone pair in notebook\n",
    "        for each in v:\n",
    "            #print(\"processing \",each)\n",
    "            added = 0\n",
    "            #if notebook has existing clone sets, check if the current pair belongs to those sets\n",
    "            #if either of the elements in the pair belongs, add the elements and change added to 1\n",
    "            if len(clone_sets) > 0:\n",
    "                for s in clone_sets:                \n",
    "                    if not added:\n",
    "                        if (each[0] in s) or (each[1] in s):\n",
    "                            s.add(each[0])\n",
    "                            s.add(each[1])\n",
    "                            added = 1    \n",
    "\n",
    "            #if either of the elements do not exist in the current clone sets, create a new clone set for the current clone pair \n",
    "            else:    \n",
    "                if not added:\n",
    "                    new_set = set()\n",
    "                    new_set.add(each[0])\n",
    "                    new_set.add(each[1])\n",
    "                    clone_sets.append(new_set)\n",
    "                    added = 1\n",
    "\n",
    "            #if notebook has no existing clone sets yet, create a new clone set for the current clone pair \n",
    "            if not added:\n",
    "                new_set = set()\n",
    "                new_set.add(each[0])\n",
    "                new_set.add(each[1])\n",
    "                clone_sets.append(new_set)\n",
    "            #print(\"current state: \", clone_sets)\n",
    "        #add the clone sets to dictionary\n",
    "        clone_sets_in_dataset[k] = clone_sets\n",
    "\n",
    "    #return clone sets\n",
    "    return clone_sets_in_dataset"
   ]
  },
  {
   "cell_type": "code",
   "execution_count": null,
   "id": "354b4f3d",
   "metadata": {},
   "outputs": [],
   "source": [
    "def get_clone_lines(cells):\n",
    "    lines = [line for cell in cells for line in cell]\n",
    "    clones = []\n",
    "    for i in range(len(lines)):\n",
    "        for j in range(i+1,len(lines)):\n",
    "            if lines[i]==lines[j]:\n",
    "                #print(i,j,lines[i],\"***\",lines[j])\n",
    "                clones.append((i,j))\n",
    "    return clones"
   ]
  },
  {
   "cell_type": "code",
   "execution_count": null,
   "id": "ed002b4c",
   "metadata": {},
   "outputs": [],
   "source": [
    "loc_clone_list_daswow = []\n",
    "for k,v in notebooks:\n",
    "    #print(k)\n",
    "    loc_clone_list_daswow.append((k,get_clone_lines(v['text'].values)))"
   ]
  },
  {
   "cell_type": "code",
   "execution_count": null,
   "id": "ce9a4c2d",
   "metadata": {},
   "outputs": [],
   "source": [
    "loc_clone_sets_daswow = get_clone_line_sets(loc_clone_list_daswow) #includes all clones"
   ]
  },
  {
   "cell_type": "markdown",
   "id": "2ad6d072",
   "metadata": {},
   "source": [
    "### Append the information on where the clones appear"
   ]
  },
  {
   "cell_type": "code",
   "execution_count": null,
   "id": "219a147e",
   "metadata": {},
   "outputs": [],
   "source": [
    "clones_labels = {}\n",
    "for k,v in notebooks:\n",
    "        #per notebook\n",
    "        label_pairs, cell_matches = [],[]\n",
    "        lines = [line for cell in v['text'].values for line in cell]\n",
    "        counter = [len(cell) for cell in v['text'].values]\n",
    "        cellno = v['cell_number'].values\n",
    "        #identify the cells\n",
    "        for i in range(len(cellno)):\n",
    "            for c in range(counter[i]):\n",
    "                cell_matches.append(cellno[i]) \n",
    "        clones = None\n",
    "        for each,values in loc_clone_sets_daswow.items():\n",
    "            if each == k:\n",
    "                clones = values\n",
    "        #print(\"***clones*** \",clones)\n",
    "        #add the clone labels \n",
    "        for each in clones:\n",
    "            #print(lines[each[0]],lines[each[1]],cell_matches[each[0]],cell_matches[each[1]])\n",
    "            pairs=[]\n",
    "            for el in each:\n",
    "                pairs.append(daswow_df[(daswow_df.filename== k)&(daswow_df.cell_number==cell_matches[el])]['primary_label'].values[0])\n",
    "            label_pairs.append(pairs)\n",
    "        clones_labels[k]=label_pairs"
   ]
  },
  {
   "cell_type": "markdown",
   "id": "48ebeaee",
   "metadata": {},
   "source": [
    "### Insights"
   ]
  },
  {
   "cell_type": "code",
   "execution_count": null,
   "id": "5e2897f9",
   "metadata": {},
   "outputs": [],
   "source": [
    "#an example record in loc_clone_sets_daswow : 'nb_108860.ipynb': [{177, 186}]\n",
    "unique_lines_of_code_clones_found_per_notebook,lines_of_code_clones_found_per_notebook = [],[]\n",
    "for each,v in loc_clone_sets_daswow.items():\n",
    "    if len(v)>0:\n",
    "        lines_of_code_clones_found_per_notebook.append(len(v))\n",
    "    if len([e for e in v if len(e)>=no_clones]) > 0:\n",
    "        unique_lines_of_code_clones_found_per_notebook.append(len([e for e in v if len(e)>=no_clones]))"
   ]
  },
  {
   "cell_type": "code",
   "execution_count": null,
   "id": "f36595e6",
   "metadata": {},
   "outputs": [],
   "source": [
    "print(\"No. of notebooks with atleast one clone that appears {0} times: {1}\".format(no_clones,len(unique_lines_of_code_clones_found_per_notebook)/470))\n",
    "print(\"Of those that have clones, average number of clones appearing {0}\".format(round(np.mean(unique_lines_of_code_clones_found_per_notebook),2)))\n",
    "print(\"Of those that have clones, median number of clones appearing {0}\".format(round(np.median(unique_lines_of_code_clones_found_per_notebook),2)))\n",
    "print(\"Of those that have clones, {0}% of notebooks have above average (>{1}) clones\".format(round((np.unique(unique_lines_of_code_clones_found_per_notebook > np.mean(unique_lines_of_code_clones_found_per_notebook), return_counts=True)[1][1])/len(unique_lines_of_code_clones_found_per_notebook)*100,2),round(np.mean(unique_lines_of_code_clones_found_per_notebook),2)))"
   ]
  },
  {
   "cell_type": "code",
   "execution_count": null,
   "id": "c5d98c27",
   "metadata": {},
   "outputs": [],
   "source": [
    "clones_to_plot = {}\n",
    "label_list= {'comment_only':0,'data_exploration':0,'data_preprocessing':0,\n",
    "             'evaluation':0,'helper_functions':0,'load_data':0,'modelling':0,\n",
    "             'prediction':0,'result_visualization':0,'save_results':0}\n",
    "notebook_share_list= {'comment_only':0,'data_exploration':0,'data_preprocessing':0,\n",
    "             'evaluation':0,'helper_functions':0,'load_data':0,'modelling':0,\n",
    "             'prediction':0,'result_visualization':0,'save_results':0}\n",
    "\n",
    "for k,v in clones_labels.items():\n",
    "    clones_to_plot[k] = []\n",
    "    for values in v:\n",
    "        if len(values)>=3:\n",
    "            counter=collections.Counter(values)\n",
    "            #only consider those that have atleast three or more appearance in the same label\n",
    "            clones_to_plot[k].append(collections.Counter({k: c for k, c in counter.items() if c >= 3}))\n",
    "    label_set = set()\n",
    "    for each in clones_to_plot[k]:\n",
    "        for key,val in each.items():\n",
    "            label_list[key] = label_list[key] + 1\n",
    "            label_set.add(key)\n",
    "            \n",
    "    #update the notebook share for each label \n",
    "    for each in label_set:\n",
    "        notebook_share_list[each] = notebook_share_list[each] + 1"
   ]
  },
  {
   "cell_type": "code",
   "execution_count": null,
   "id": "27045d1e",
   "metadata": {
    "scrolled": true
   },
   "outputs": [],
   "source": [
    "clone_data = dict(sorted(label_list.items(), key=lambda item: item[1],reverse=True))\n",
    "clone_df = pd.DataFrame({'labels':clone_data.keys(),'% in total clones across steps':[round((v/sum(clone_data.values()))*100,2) for k,v in clone_data.items()],\n",
    "                         '% notebooks with >1 clone':[round((notebook_share_list[k]/len(unique_lines_of_code_clones_found_per_notebook))*100,2) for k,v in clone_data.items()]})\n",
    "clone_df"
   ]
  },
  {
   "cell_type": "markdown",
   "id": "e991299c",
   "metadata": {},
   "source": [
    "### Visualise the distribution of type-1 clones in DASWOW"
   ]
  },
  {
   "cell_type": "code",
   "execution_count": null,
   "id": "f9b57781",
   "metadata": {},
   "outputs": [],
   "source": [
    "data = pd.melt(clone_df, id_vars =['labels'], value_vars =['% in total clones across steps',\n",
    "                                                           '% notebooks with >1 clone'])\n",
    "data.head()"
   ]
  },
  {
   "cell_type": "code",
   "execution_count": null,
   "id": "daadc58a",
   "metadata": {},
   "outputs": [],
   "source": [
    "plt.figure(figsize=(12,3))\n",
    "g = sns.catplot(x = 'value', y='labels', hue='variable', data=data, kind='bar',order=clone_data.keys(),legend=False)    \n",
    "title = \"no_of_lines_of_code_with_type-1_clones_in_a_notebook\"\n",
    "for ax in g.axes.ravel():\n",
    "    for p in ax.patches:\n",
    "        ax.annotate(format(p.get_width(), '.2f'), \n",
    "                   (p.get_x() + p.get_width()+10,p.get_y()+.5), \n",
    "                   ha = 'center', va = 'center', \n",
    "                   xytext = (0, 9), \n",
    "                   textcoords = 'offset points')\n",
    "#ax.xaxis.grid(False)\n",
    "ax.set_xlabel(\"% share\",fontsize=12,fontweight='bold')\n",
    "ax.set_ylabel(\"\",fontsize=12,fontweight='bold')\n",
    "ax.tick_params(axis='both', which='major', labelsize=12)\n",
    "ax.tick_params(axis='both', which='minor', labelsize=12)\n",
    "#axes=plt.gca()\n",
    "ax.set(xlim=(0, 100))\n",
    "plt.legend(loc='lower right')\n",
    "#plt.tight_layout()\n",
    "plt.savefig(results_path+title+'.eps', format='eps')"
   ]
  }
 ],
 "metadata": {
  "kernelspec": {
   "display_name": "Python 3",
   "language": "python",
   "name": "python3"
  },
  "language_info": {
   "codemirror_mode": {
    "name": "ipython",
    "version": 3
   },
   "file_extension": ".py",
   "mimetype": "text/x-python",
   "name": "python",
   "nbconvert_exporter": "python",
   "pygments_lexer": "ipython3",
   "version": "3.12.0"
  }
 },
 "nbformat": 4,
 "nbformat_minor": 5
}
