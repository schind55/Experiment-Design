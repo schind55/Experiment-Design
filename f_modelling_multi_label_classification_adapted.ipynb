{
 "cells": [
  {
   "cell_type": "markdown",
   "metadata": {},
   "source": [
    "## Multilabel Multiclass classification\n",
    "\n",
    "This notebook tries to model the dataset using Multilabel Multiclass classification.\n",
    "- all the labels except primary_label is used as multi label input (note: primary_label is already taken into account in this set). \n",
    "- in this notebook, we first try different classifiers (with default parameters) and compare their accuracy performance. We then evaluate the performance of the best performing classifier using GridSearchCV.\n",
    "- before classification, we preprocess the data using class:classifier. features are representing using tfidf method and chi2 method is used for feature selection."
   ]
  },
  {
   "cell_type": "markdown",
   "metadata": {},
   "source": [
    "#### import statements"
   ]
  },
  {
   "cell_type": "code",
   "execution_count": 84,
   "metadata": {
    "tags": []
   },
   "outputs": [],
   "source": [
    "from classes.Classifiers.Classifiers import Classifiers\n",
    "from classes.Classifiers.ClassBalancer import ClassBalancer\n",
    "from classes.Classifiers.FeatureSelector import FeatureSelector\n",
    "from classes.Classifiers.ModelComparison import ModelComparison\n",
    "from classes.Utils.PandasUtils import PandasUtils"
   ]
  },
  {
   "cell_type": "code",
   "execution_count": 85,
   "metadata": {
    "tags": []
   },
   "outputs": [],
   "source": [
    "#numerical\n",
    "import numpy as np\n",
    "import pandas as pd\n",
    "import math\n",
    "from glob import glob \n",
    "\n",
    "#os related operations\n",
    "import os \n",
    "from os import listdir\n",
    "from os.path import isfile, join\n",
    "\n",
    "#data structures\n",
    "from collections import Counter\n",
    "from itertools import chain\n",
    "from itertools import islice\n",
    "\n",
    "#visualisation\n",
    "import matplotlib.pyplot as plt\n",
    "import seaborn as sns\n",
    "import matplotlib.patches as mpatches\n",
    "sns.set(style=\"darkgrid\")\n",
    "\n",
    "import warnings\n",
    "warnings.filterwarnings('ignore')"
   ]
  },
  {
   "cell_type": "code",
   "execution_count": 86,
   "metadata": {
    "tags": []
   },
   "outputs": [],
   "source": [
    "#sklearn\n",
    "from sklearn.model_selection import PredefinedSplit\n",
    "from sklearn.preprocessing import StandardScaler\n",
    "from sklearn.model_selection import StratifiedKFold\n",
    "from sklearn.feature_extraction.text import TfidfVectorizer\n",
    "\n",
    "from sklearn.multiclass import OneVsRestClassifier\n",
    "from sklearn.multiclass import OneVsOneClassifier\n",
    "from sklearn.feature_selection import SelectKBest, chi2,f_classif \n",
    "\n",
    "from sklearn.pipeline import Pipeline\n",
    "from sklearn.model_selection import GridSearchCV\n",
    "from sklearn import metrics\n",
    "from sklearn.metrics import accuracy_score,f1_score\n",
    "from sklearn.metrics import classification_report, confusion_matrix, roc_curve  \n",
    "\n",
    "from sklearn.naive_bayes import MultinomialNB\n",
    "from sklearn.svm import LinearSVC,SVC #multiclass\n",
    "from sklearn.linear_model import LogisticRegression #multiclass\n",
    "from sklearn.ensemble import RandomForestClassifier #multilabel, multioutput\n",
    "from sklearn.tree import DecisionTreeClassifier  #multilabel, multioutput\n",
    "from sklearn.ensemble import GradientBoostingClassifier #multiclass"
   ]
  },
  {
   "cell_type": "markdown",
   "metadata": {},
   "source": [
    "#### set path"
   ]
  },
  {
   "cell_type": "code",
   "execution_count": 87,
   "metadata": {
    "tags": []
   },
   "outputs": [],
   "source": [
    "path = os.getcwd()\n",
    "results_path = os.path.join(path,'results','multi-label-classification','')\n",
    "features_path = os.path.join(path,'features','')"
   ]
  },
  {
   "cell_type": "code",
   "execution_count": 88,
   "metadata": {
    "tags": []
   },
   "outputs": [],
   "source": [
    "if os.path.exists(results_path):\n",
    "    pass\n",
    "else:\n",
    "    os.mkdir(results_path)"
   ]
  },
  {
   "cell_type": "code",
   "execution_count": 172,
   "metadata": {
    "tags": []
   },
   "outputs": [],
   "source": [
    "# results are stored in a dict\n",
    "subset_acc_default = {}\n",
    "hamming_loss_default = {}\n",
    "f1score_default = {}\n",
    "jaccard_default = {}"
   ]
  },
  {
   "cell_type": "code",
   "execution_count": 173,
   "metadata": {
    "tags": []
   },
   "outputs": [],
   "source": [
    "content='code'\n",
    "setting = '_'+content+'_'+'scaled'\n",
    "settings = [m+setting for m in ['rf','dt','gb','lsvc','svc','log'] ]\n",
    "\n",
    "for model_name in settings:\n",
    "    jaccard_default[model_name] = {}\n",
    "    f1score_default[model_name] = {}\n",
    "    subset_acc_default[model_name] = {}\n",
    "    hamming_loss_default[model_name] = {}"
   ]
  },
  {
   "cell_type": "markdown",
   "metadata": {},
   "source": [
    "#### load data"
   ]
  },
  {
   "cell_type": "code",
   "execution_count": 91,
   "metadata": {
    "tags": []
   },
   "outputs": [
    {
     "name": "stdout",
     "output_type": "stream",
     "text": [
      "(5833, 32)\n",
      "(1927, 32)\n",
      "(1918, 32)\n"
     ]
    }
   ],
   "source": [
    "test_features = pd.read_pickle(features_path+'test_features.pkl')\n",
    "train_features = pd.read_pickle(features_path+'train_features.pkl')\n",
    "validation_features = pd.read_pickle(features_path+'validation_features.pkl')\n",
    "\n",
    "train_features.index = range(train_features.shape[0])\n",
    "validation_features.index = range(validation_features.shape[0])\n",
    "test_features.index = range(test_features.shape[0])\n",
    "\n",
    "train_features.fillna(0,inplace=True)\n",
    "test_features.fillna(0,inplace=True)\n",
    "validation_features.fillna(0,inplace=True)\n",
    "\n",
    "print(train_features.shape)\n",
    "print(validation_features.shape)\n",
    "print(test_features.shape)"
   ]
  },
  {
   "cell_type": "markdown",
   "metadata": {},
   "source": [
    "#### labels"
   ]
  },
  {
   "cell_type": "code",
   "execution_count": 92,
   "metadata": {
    "tags": []
   },
   "outputs": [],
   "source": [
    "labels = ['helper_functions','load_data',\n",
    "              'data_preprocessing','data_exploration',\n",
    "              'modelling','evaluation','prediction',\n",
    "              'result_visualization','save_results',\n",
    "              'comment_only']"
   ]
  },
  {
   "cell_type": "markdown",
   "metadata": {},
   "source": [
    "#### training + validation dataset!"
   ]
  },
  {
   "cell_type": "code",
   "execution_count": 93,
   "metadata": {
    "tags": []
   },
   "outputs": [],
   "source": [
    "df = pd.DataFrame()\n",
    "#df= df.add(features)\n",
    "\n",
    "\n",
    "\n",
    "df = pd.concat([df, train_features])\n",
    "df = pd.concat([df, validation_features])"
   ]
  },
  {
   "cell_type": "code",
   "execution_count": null,
   "metadata": {
    "tags": []
   },
   "outputs": [],
   "source": []
  },
  {
   "cell_type": "code",
   "execution_count": 94,
   "metadata": {
    "scrolled": true,
    "tags": []
   },
   "outputs": [
    {
     "name": "stdout",
     "output_type": "stream",
     "text": [
      "Total notebook in training+validation:  376\n",
      "Total notebook in test:  94\n"
     ]
    }
   ],
   "source": [
    "print(\"Total notebook in training+validation: \",len(set(df.filename.values)))\n",
    "print(\"Total notebook in test: \",len(set(test_features.filename.values)))"
   ]
  },
  {
   "cell_type": "markdown",
   "metadata": {},
   "source": [
    "### Classifier Setup and Feature Engineering"
   ]
  },
  {
   "cell_type": "markdown",
   "metadata": {},
   "source": [
    "### Data Preprocessing"
   ]
  },
  {
   "cell_type": "markdown",
   "metadata": {},
   "source": [
    "#### Categorisation of features \n",
    "*if necessary"
   ]
  },
  {
   "cell_type": "code",
   "execution_count": 95,
   "metadata": {
    "tags": []
   },
   "outputs": [],
   "source": [
    "def categorize(df):\n",
    "    cat = pd.Categorical(df['primary_label'].values, categories=labels)\n",
    "    y, uniques = pd.factorize(cat)\n",
    "    df['primary_label'] = np.asarray(y)\n",
    "    \n",
    "    cat = pd.Categorical(df['filename'].values)\n",
    "    files, uniques = pd.factorize(cat)\n",
    "    df['filename'] = np.asarray(files)\n",
    "    \n",
    "    return df,files,cat"
   ]
  },
  {
   "cell_type": "code",
   "execution_count": 96,
   "metadata": {
    "tags": []
   },
   "outputs": [
    {
     "name": "stdout",
     "output_type": "stream",
     "text": [
      "[0 1 2 3 4 5 6 7 8 9]\n",
      "(7760, 32)\n",
      "[0 3 5 1 2 4 8 7 6 9]\n",
      "(1918, 32)\n"
     ]
    }
   ],
   "source": [
    "#temp_df = pd.concat([df.copy(), test_features.copy()], ignore_index=True)\n",
    "# pd.concat([df, train_features])\n",
    "\n",
    "temp_df = pd.DataFrame()\n",
    "temp_df = pd.concat([temp_df, df])\n",
    "temp_df = pd.concat([temp_df, test_features.copy()])\n",
    "\n",
    "temp_df.index = range(temp_df.shape[0])\n",
    "temp_df,cat,files = categorize(temp_df)\n",
    "\n",
    "\n",
    "# DF1\n",
    "df1 = temp_df[0:df.shape[0]].copy()\n",
    "df1.index = range(df1.shape[0])\n",
    "print(df1.primary_label.unique())\n",
    "print(df1.shape)\n",
    "\n",
    "# DF2\n",
    "df2 = temp_df[df.shape[0]:].copy()\n",
    "df2.index = range(df2.shape[0])\n",
    "print(df2.primary_label.unique())\n",
    "print(df2.shape)"
   ]
  },
  {
   "cell_type": "code",
   "execution_count": null,
   "metadata": {
    "tags": []
   },
   "outputs": [],
   "source": []
  },
  {
   "cell_type": "markdown",
   "metadata": {},
   "source": [
    "For a pre-defined split of validation set for crossfold validation"
   ]
  },
  {
   "cell_type": "code",
   "execution_count": 97,
   "metadata": {
    "tags": []
   },
   "outputs": [],
   "source": [
    "test_fold = []\n",
    "for i in range(0,train_features.shape[0]):\n",
    "    test_fold.append(0)"
   ]
  },
  {
   "cell_type": "code",
   "execution_count": 98,
   "metadata": {
    "tags": []
   },
   "outputs": [],
   "source": [
    "folds = {}\n",
    "t_fold = 1\n",
    "count = 1\n",
    "for each in set(validation_features.filename.values):\n",
    "    folds[each] = t_fold \n",
    "    if count%10 == 0:\n",
    "        t_fold += 1\n",
    "    count += 1"
   ]
  },
  {
   "cell_type": "code",
   "execution_count": 99,
   "metadata": {
    "tags": []
   },
   "outputs": [],
   "source": [
    "for idx,row in validation_features.iterrows():\n",
    "    test_fold.append(folds[row['filename']])"
   ]
  },
  {
   "cell_type": "markdown",
   "metadata": {},
   "source": [
    "set the split"
   ]
  },
  {
   "cell_type": "code",
   "execution_count": 100,
   "metadata": {
    "tags": []
   },
   "outputs": [
    {
     "name": "stdout",
     "output_type": "stream",
     "text": [
      "{0, 1, 2, 3, 4, 5, 6, 7, 8, 9, 10}\n"
     ]
    }
   ],
   "source": [
    "ps = PredefinedSplit(test_fold=test_fold)\n",
    "print(set(test_fold))"
   ]
  },
  {
   "cell_type": "markdown",
   "metadata": {},
   "source": [
    "#### Set up the classifier and indicate conditions to restrict the dataframe we will be working on"
   ]
  },
  {
   "cell_type": "code",
   "execution_count": 101,
   "metadata": {
    "tags": []
   },
   "outputs": [
    {
     "name": "stdout",
     "output_type": "stream",
     "text": [
      "Shape of the restricted dataframe:  (7760, 32)\n",
      "Resetting index.\n",
      "train.shape,test.shape\n",
      "(7760, 32) (1918, 32)\n"
     ]
    }
   ],
   "source": [
    "model = Classifiers(df1,labels) #provide the training set and labels\n",
    "conditions = (df1.cell_type == 'code')\n",
    "model.apply_conditions_to_dataframe(conditions) #a restricted dataframe is created\n",
    "\n",
    "(train,test,indices_train,indices_test)=model.test_train_data_set(df2) #provide the test set"
   ]
  },
  {
   "cell_type": "markdown",
   "metadata": {},
   "source": [
    "### Feature Engineering (Representation and Selection)"
   ]
  },
  {
   "cell_type": "code",
   "execution_count": 102,
   "metadata": {
    "tags": []
   },
   "outputs": [
    {
     "name": "stdout",
     "output_type": "stream",
     "text": [
      "new (lexical) feature column created as 'new_text'\n"
     ]
    }
   ],
   "source": [
    "#'text','comment'\n",
    "# extend: 'code_line_before','code_line_after', 'markdown_heading', 'packages_info'\n",
    "features = ['text']\n",
    "train,test = model.set_lexical_features(features)\n",
    "#same df is modified and contains our new feature column *new_text*"
   ]
  },
  {
   "cell_type": "markdown",
   "metadata": {},
   "source": [
    "#### apply preprocessing to the text feature\n",
    "many custom preprocessing functions are available inside the class Preprocessing, check out!\n",
    "\n",
    "here, we will use code_text_processing function to process our lexical feature *new_text* we created previously\n",
    "\n",
    "processed text will be available in the feature column *text_processed*"
   ]
  },
  {
   "cell_type": "code",
   "execution_count": 103,
   "metadata": {
    "tags": []
   },
   "outputs": [],
   "source": [
    "train,test = model.preprocessing('new_text')"
   ]
  },
  {
   "cell_type": "markdown",
   "metadata": {},
   "source": [
    "##### tfidf and chi2"
   ]
  },
  {
   "cell_type": "code",
   "execution_count": 104,
   "metadata": {
    "tags": []
   },
   "outputs": [
    {
     "name": "stdout",
     "output_type": "stream",
     "text": [
      "TfidfVectorizer(max_df=0.2, min_df=2, ngram_range=(1, 3), stop_words='english')\n"
     ]
    },
    {
     "data": {
      "text/html": [
       "<div>\n",
       "<style scoped>\n",
       "    .dataframe tbody tr th:only-of-type {\n",
       "        vertical-align: middle;\n",
       "    }\n",
       "\n",
       "    .dataframe tbody tr th {\n",
       "        vertical-align: top;\n",
       "    }\n",
       "\n",
       "    .dataframe thead th {\n",
       "        text-align: right;\n",
       "    }\n",
       "</style>\n",
       "<table border=\"1\" class=\"dataframe\">\n",
       "  <thead>\n",
       "    <tr style=\"text-align: right;\">\n",
       "      <th></th>\n",
       "      <th>filename</th>\n",
       "      <th>cell_type</th>\n",
       "      <th>cell_number</th>\n",
       "      <th>execution_count</th>\n",
       "      <th>linesofcomment</th>\n",
       "      <th>linesofcode</th>\n",
       "      <th>variable_count</th>\n",
       "      <th>function_count</th>\n",
       "      <th>text/plain</th>\n",
       "      <th>image/png</th>\n",
       "      <th>...</th>\n",
       "      <th>data_exploration</th>\n",
       "      <th>data_preprocessing</th>\n",
       "      <th>evaluation</th>\n",
       "      <th>modelling</th>\n",
       "      <th>prediction</th>\n",
       "      <th>result_visualization</th>\n",
       "      <th>save_results</th>\n",
       "      <th>comment_only</th>\n",
       "      <th>new_text</th>\n",
       "      <th>text_processed</th>\n",
       "    </tr>\n",
       "    <tr>\n",
       "      <th>index</th>\n",
       "      <th></th>\n",
       "      <th></th>\n",
       "      <th></th>\n",
       "      <th></th>\n",
       "      <th></th>\n",
       "      <th></th>\n",
       "      <th></th>\n",
       "      <th></th>\n",
       "      <th></th>\n",
       "      <th></th>\n",
       "      <th></th>\n",
       "      <th></th>\n",
       "      <th></th>\n",
       "      <th></th>\n",
       "      <th></th>\n",
       "      <th></th>\n",
       "      <th></th>\n",
       "      <th></th>\n",
       "      <th></th>\n",
       "      <th></th>\n",
       "      <th></th>\n",
       "    </tr>\n",
       "  </thead>\n",
       "  <tbody>\n",
       "    <tr>\n",
       "      <th>0</th>\n",
       "      <td>0</td>\n",
       "      <td>code</td>\n",
       "      <td>0</td>\n",
       "      <td>1</td>\n",
       "      <td>0.0</td>\n",
       "      <td>2.0</td>\n",
       "      <td>0.0</td>\n",
       "      <td>0.0</td>\n",
       "      <td>0</td>\n",
       "      <td>0</td>\n",
       "      <td>...</td>\n",
       "      <td>0</td>\n",
       "      <td>0</td>\n",
       "      <td>0</td>\n",
       "      <td>0</td>\n",
       "      <td>0</td>\n",
       "      <td>0</td>\n",
       "      <td>0</td>\n",
       "      <td>0</td>\n",
       "      <td>[import pandas as pd, import numpy as np]</td>\n",
       "      <td>import pandas pd import numpy np</td>\n",
       "    </tr>\n",
       "    <tr>\n",
       "      <th>1</th>\n",
       "      <td>0</td>\n",
       "      <td>code</td>\n",
       "      <td>1</td>\n",
       "      <td>2</td>\n",
       "      <td>1.0</td>\n",
       "      <td>4.0</td>\n",
       "      <td>4.0</td>\n",
       "      <td>0.0</td>\n",
       "      <td>0</td>\n",
       "      <td>0</td>\n",
       "      <td>...</td>\n",
       "      <td>0</td>\n",
       "      <td>0</td>\n",
       "      <td>0</td>\n",
       "      <td>0</td>\n",
       "      <td>0</td>\n",
       "      <td>0</td>\n",
       "      <td>0</td>\n",
       "      <td>0</td>\n",
       "      <td>[l_cols = ['user_id','movie_id','rating'], r_c...</td>\n",
       "      <td>l_cols user_id movie_id rating r_cols movie_id...</td>\n",
       "    </tr>\n",
       "    <tr>\n",
       "      <th>2</th>\n",
       "      <td>0</td>\n",
       "      <td>code</td>\n",
       "      <td>2</td>\n",
       "      <td>3</td>\n",
       "      <td>0.0</td>\n",
       "      <td>1.0</td>\n",
       "      <td>0.0</td>\n",
       "      <td>0.0</td>\n",
       "      <td>1</td>\n",
       "      <td>0</td>\n",
       "      <td>...</td>\n",
       "      <td>1</td>\n",
       "      <td>0</td>\n",
       "      <td>0</td>\n",
       "      <td>0</td>\n",
       "      <td>0</td>\n",
       "      <td>0</td>\n",
       "      <td>0</td>\n",
       "      <td>0</td>\n",
       "      <td>[l.head()]</td>\n",
       "      <td>l.head</td>\n",
       "    </tr>\n",
       "    <tr>\n",
       "      <th>3</th>\n",
       "      <td>0</td>\n",
       "      <td>code</td>\n",
       "      <td>3</td>\n",
       "      <td>4</td>\n",
       "      <td>0.0</td>\n",
       "      <td>1.0</td>\n",
       "      <td>0.0</td>\n",
       "      <td>0.0</td>\n",
       "      <td>1</td>\n",
       "      <td>0</td>\n",
       "      <td>...</td>\n",
       "      <td>1</td>\n",
       "      <td>0</td>\n",
       "      <td>0</td>\n",
       "      <td>0</td>\n",
       "      <td>0</td>\n",
       "      <td>0</td>\n",
       "      <td>0</td>\n",
       "      <td>0</td>\n",
       "      <td>[r.head()]</td>\n",
       "      <td>r.head</td>\n",
       "    </tr>\n",
       "    <tr>\n",
       "      <th>4</th>\n",
       "      <td>0</td>\n",
       "      <td>code</td>\n",
       "      <td>4</td>\n",
       "      <td>5</td>\n",
       "      <td>0.0</td>\n",
       "      <td>1.0</td>\n",
       "      <td>1.0</td>\n",
       "      <td>0.0</td>\n",
       "      <td>0</td>\n",
       "      <td>0</td>\n",
       "      <td>...</td>\n",
       "      <td>0</td>\n",
       "      <td>1</td>\n",
       "      <td>0</td>\n",
       "      <td>0</td>\n",
       "      <td>0</td>\n",
       "      <td>0</td>\n",
       "      <td>0</td>\n",
       "      <td>0</td>\n",
       "      <td>[movies = pd.merge(l,r)]</td>\n",
       "      <td>movies pd.merge</td>\n",
       "    </tr>\n",
       "    <tr>\n",
       "      <th>...</th>\n",
       "      <td>...</td>\n",
       "      <td>...</td>\n",
       "      <td>...</td>\n",
       "      <td>...</td>\n",
       "      <td>...</td>\n",
       "      <td>...</td>\n",
       "      <td>...</td>\n",
       "      <td>...</td>\n",
       "      <td>...</td>\n",
       "      <td>...</td>\n",
       "      <td>...</td>\n",
       "      <td>...</td>\n",
       "      <td>...</td>\n",
       "      <td>...</td>\n",
       "      <td>...</td>\n",
       "      <td>...</td>\n",
       "      <td>...</td>\n",
       "      <td>...</td>\n",
       "      <td>...</td>\n",
       "      <td>...</td>\n",
       "      <td>...</td>\n",
       "    </tr>\n",
       "    <tr>\n",
       "      <th>7755</th>\n",
       "      <td>375</td>\n",
       "      <td>code</td>\n",
       "      <td>28</td>\n",
       "      <td>12</td>\n",
       "      <td>0.0</td>\n",
       "      <td>1.0</td>\n",
       "      <td>0.0</td>\n",
       "      <td>0.0</td>\n",
       "      <td>0</td>\n",
       "      <td>0</td>\n",
       "      <td>...</td>\n",
       "      <td>1</td>\n",
       "      <td>0</td>\n",
       "      <td>0</td>\n",
       "      <td>0</td>\n",
       "      <td>0</td>\n",
       "      <td>0</td>\n",
       "      <td>0</td>\n",
       "      <td>0</td>\n",
       "      <td>[print(num_mistakes_dict['177'][1])]</td>\n",
       "      <td>print num_mistakes_dict</td>\n",
       "    </tr>\n",
       "    <tr>\n",
       "      <th>7756</th>\n",
       "      <td>375</td>\n",
       "      <td>code</td>\n",
       "      <td>30</td>\n",
       "      <td>16</td>\n",
       "      <td>0.0</td>\n",
       "      <td>5.0</td>\n",
       "      <td>0.0</td>\n",
       "      <td>0.0</td>\n",
       "      <td>0</td>\n",
       "      <td>0</td>\n",
       "      <td>...</td>\n",
       "      <td>1</td>\n",
       "      <td>0</td>\n",
       "      <td>0</td>\n",
       "      <td>0</td>\n",
       "      <td>0</td>\n",
       "      <td>0</td>\n",
       "      <td>0</td>\n",
       "      <td>0</td>\n",
       "      <td>[print(num_mistakes_dict['279'][1]), print(\"--...</td>\n",
       "      <td>print num_mistakes_dict print print num_mistak...</td>\n",
       "    </tr>\n",
       "    <tr>\n",
       "      <th>7757</th>\n",
       "      <td>375</td>\n",
       "      <td>code</td>\n",
       "      <td>32</td>\n",
       "      <td>8</td>\n",
       "      <td>0.0</td>\n",
       "      <td>3.0</td>\n",
       "      <td>0.0</td>\n",
       "      <td>0.0</td>\n",
       "      <td>0</td>\n",
       "      <td>0</td>\n",
       "      <td>...</td>\n",
       "      <td>1</td>\n",
       "      <td>0</td>\n",
       "      <td>0</td>\n",
       "      <td>0</td>\n",
       "      <td>0</td>\n",
       "      <td>0</td>\n",
       "      <td>0</td>\n",
       "      <td>0</td>\n",
       "      <td>[print(num_mistakes_dict['2854'][1]), print(\"-...</td>\n",
       "      <td>print num_mistakes_dict print print num_mistak...</td>\n",
       "    </tr>\n",
       "    <tr>\n",
       "      <th>7758</th>\n",
       "      <td>375</td>\n",
       "      <td>code</td>\n",
       "      <td>35</td>\n",
       "      <td>19</td>\n",
       "      <td>0.0</td>\n",
       "      <td>10.0</td>\n",
       "      <td>4.0</td>\n",
       "      <td>0.0</td>\n",
       "      <td>0</td>\n",
       "      <td>0</td>\n",
       "      <td>...</td>\n",
       "      <td>1</td>\n",
       "      <td>0</td>\n",
       "      <td>0</td>\n",
       "      <td>0</td>\n",
       "      <td>0</td>\n",
       "      <td>0</td>\n",
       "      <td>0</td>\n",
       "      <td>0</td>\n",
       "      <td>[error_type_dict = {}, for key in error_dict:,...</td>\n",
       "      <td>error_type_dict key error_dict child error_dic...</td>\n",
       "    </tr>\n",
       "    <tr>\n",
       "      <th>7759</th>\n",
       "      <td>375</td>\n",
       "      <td>code</td>\n",
       "      <td>38</td>\n",
       "      <td>19</td>\n",
       "      <td>0.0</td>\n",
       "      <td>13.0</td>\n",
       "      <td>7.0</td>\n",
       "      <td>0.0</td>\n",
       "      <td>0</td>\n",
       "      <td>0</td>\n",
       "      <td>...</td>\n",
       "      <td>1</td>\n",
       "      <td>0</td>\n",
       "      <td>0</td>\n",
       "      <td>0</td>\n",
       "      <td>0</td>\n",
       "      <td>0</td>\n",
       "      <td>0</td>\n",
       "      <td>0</td>\n",
       "      <td>[misspelled_words = {}, for key in error_dict:...</td>\n",
       "      <td>misspelled_words key error_dict child error_di...</td>\n",
       "    </tr>\n",
       "  </tbody>\n",
       "</table>\n",
       "<p>7760 rows × 34 columns</p>\n",
       "</div>"
      ],
      "text/plain": [
       "       filename cell_type  cell_number  execution_count  linesofcomment  \\\n",
       "index                                                                     \n",
       "0             0      code            0                1             0.0   \n",
       "1             0      code            1                2             1.0   \n",
       "2             0      code            2                3             0.0   \n",
       "3             0      code            3                4             0.0   \n",
       "4             0      code            4                5             0.0   \n",
       "...         ...       ...          ...              ...             ...   \n",
       "7755        375      code           28               12             0.0   \n",
       "7756        375      code           30               16             0.0   \n",
       "7757        375      code           32                8             0.0   \n",
       "7758        375      code           35               19             0.0   \n",
       "7759        375      code           38               19             0.0   \n",
       "\n",
       "       linesofcode  variable_count  function_count  text/plain  image/png  \\\n",
       "index                                                                       \n",
       "0              2.0             0.0             0.0           0          0   \n",
       "1              4.0             4.0             0.0           0          0   \n",
       "2              1.0             0.0             0.0           1          0   \n",
       "3              1.0             0.0             0.0           1          0   \n",
       "4              1.0             1.0             0.0           0          0   \n",
       "...            ...             ...             ...         ...        ...   \n",
       "7755           1.0             0.0             0.0           0          0   \n",
       "7756           5.0             0.0             0.0           0          0   \n",
       "7757           3.0             0.0             0.0           0          0   \n",
       "7758          10.0             4.0             0.0           0          0   \n",
       "7759          13.0             7.0             0.0           0          0   \n",
       "\n",
       "       ...  data_exploration  data_preprocessing  evaluation  modelling  \\\n",
       "index  ...                                                                \n",
       "0      ...                 0                   0           0          0   \n",
       "1      ...                 0                   0           0          0   \n",
       "2      ...                 1                   0           0          0   \n",
       "3      ...                 1                   0           0          0   \n",
       "4      ...                 0                   1           0          0   \n",
       "...    ...               ...                 ...         ...        ...   \n",
       "7755   ...                 1                   0           0          0   \n",
       "7756   ...                 1                   0           0          0   \n",
       "7757   ...                 1                   0           0          0   \n",
       "7758   ...                 1                   0           0          0   \n",
       "7759   ...                 1                   0           0          0   \n",
       "\n",
       "       prediction result_visualization save_results comment_only  \\\n",
       "index                                                              \n",
       "0               0                    0            0            0   \n",
       "1               0                    0            0            0   \n",
       "2               0                    0            0            0   \n",
       "3               0                    0            0            0   \n",
       "4               0                    0            0            0   \n",
       "...           ...                  ...          ...          ...   \n",
       "7755            0                    0            0            0   \n",
       "7756            0                    0            0            0   \n",
       "7757            0                    0            0            0   \n",
       "7758            0                    0            0            0   \n",
       "7759            0                    0            0            0   \n",
       "\n",
       "                                                new_text  \\\n",
       "index                                                      \n",
       "0              [import pandas as pd, import numpy as np]   \n",
       "1      [l_cols = ['user_id','movie_id','rating'], r_c...   \n",
       "2                                             [l.head()]   \n",
       "3                                             [r.head()]   \n",
       "4                               [movies = pd.merge(l,r)]   \n",
       "...                                                  ...   \n",
       "7755                [print(num_mistakes_dict['177'][1])]   \n",
       "7756   [print(num_mistakes_dict['279'][1]), print(\"--...   \n",
       "7757   [print(num_mistakes_dict['2854'][1]), print(\"-...   \n",
       "7758   [error_type_dict = {}, for key in error_dict:,...   \n",
       "7759   [misspelled_words = {}, for key in error_dict:...   \n",
       "\n",
       "                                          text_processed  \n",
       "index                                                     \n",
       "0                       import pandas pd import numpy np  \n",
       "1      l_cols user_id movie_id rating r_cols movie_id...  \n",
       "2                                                 l.head  \n",
       "3                                                 r.head  \n",
       "4                                        movies pd.merge  \n",
       "...                                                  ...  \n",
       "7755                             print num_mistakes_dict  \n",
       "7756   print num_mistakes_dict print print num_mistak...  \n",
       "7757   print num_mistakes_dict print print num_mistak...  \n",
       "7758   error_type_dict key error_dict child error_dic...  \n",
       "7759   misspelled_words key error_dict child error_di...  \n",
       "\n",
       "[7760 rows x 34 columns]"
      ]
     },
     "execution_count": 104,
     "metadata": {},
     "output_type": "execute_result"
    }
   ],
   "source": [
    "# tests\n",
    "tfidf = TfidfVectorizer(ngram_range=(1,3),use_idf=True,max_df=0.2,min_df=2,stop_words='english') \n",
    "print(tfidf)\n",
    "\n",
    "train"
   ]
  },
  {
   "cell_type": "code",
   "execution_count": 105,
   "metadata": {
    "tags": []
   },
   "outputs": [
    {
     "name": "stdout",
     "output_type": "stream",
     "text": [
      "tfidf transformation finished. shape of the feature vector:  (7760, 48485) (1918, 48485)\n",
      "(7760, 48485)\n",
      "Selecting 2000 features...\n",
      "train,test shape\n",
      "(7760, 2000) (1918, 2000)\n"
     ]
    }
   ],
   "source": [
    "#vectorize the text features\n",
    "tfidf = TfidfVectorizer(ngram_range=(1,3),use_idf=True,max_df=0.2,min_df=2,stop_words='english') \n",
    "X_train,X_test,tfidf = model.vectorization(tfidf)\n",
    "print(X_train.shape)\n",
    "\n",
    "#use feature selection if necessary \n",
    "k = 2000 #k lexical features to be retained\n",
    "X_train_features,X_test_features,selector = model.feature_selection(chi2,k,train[labels])"
   ]
  },
  {
   "cell_type": "code",
   "execution_count": 124,
   "metadata": {
    "tags": []
   },
   "outputs": [],
   "source": [
    "#type(tfidf)"
   ]
  },
  {
   "cell_type": "code",
   "execution_count": 125,
   "metadata": {
    "tags": []
   },
   "outputs": [
    {
     "name": "stdout",
     "output_type": "stream",
     "text": [
      "tfidf features:  48485\n",
      "before feature selection:  48485\n",
      "after feature selection:  2000\n"
     ]
    },
    {
     "data": {
      "text/plain": [
       "array(['00000', '00000 au', '000000', ..., '아파트', '아파트 년도별', '아파트 년도별 건축'],\n",
       "      dtype=object)"
      ]
     },
     "execution_count": 125,
     "metadata": {},
     "output_type": "execute_result"
    }
   ],
   "source": [
    "tfidf_features = tfidf.get_feature_names_out()\n",
    "print(\"tfidf features: \",len(tfidf_features))\n",
    "print(\"before feature selection: \",len(selector.get_support()))\n",
    "selected_features = selector.get_support()\n",
    "text_features = [tfidf_features[i] for i in range(len(tfidf.get_feature_names_out())) if selected_features[i]==True]\n",
    "print(\"after feature selection: \",len(text_features))\n",
    "\n",
    "\n",
    "tfidf_features"
   ]
  },
  {
   "cell_type": "code",
   "execution_count": 115,
   "metadata": {
    "tags": []
   },
   "outputs": [
    {
     "name": "stdout",
     "output_type": "stream",
     "text": [
      "taking feature  linesofcomment   (7760, 2001)\n",
      "taking feature  linesofcode   (7760, 2002)\n",
      "taking feature  variable_count   (7760, 2003)\n",
      "taking feature  function_count   (7760, 2004)\n",
      "taking feature  linesofcomment   (1918, 2001)\n",
      "taking feature  linesofcode   (1918, 2002)\n",
      "taking feature  variable_count   (1918, 2003)\n",
      "taking feature  function_count   (1918, 2004)\n",
      "statistical features added\n"
     ]
    }
   ],
   "source": [
    "#following set of features are represented in numerical form\n",
    "#metric features are: ['linesofcomment','linesofcode','variable_count','function_count']\n",
    "#extended features are: ['filename','cell_number','execution_count','text/plain' , 'image/png', 'text/html', 'execute_result', 'display_data', 'stream', 'error']\n",
    "\n",
    "stat_features = ['linesofcomment','linesofcode','variable_count','function_count']\n",
    "X_train_features_,X_test_features_ = model.set_statistical_features(stat_features,X_train_features,X_test_features)"
   ]
  },
  {
   "cell_type": "markdown",
   "metadata": {},
   "source": [
    "#### Together, text_features and stat_features form the original feature vector of our model"
   ]
  },
  {
   "cell_type": "code",
   "execution_count": 131,
   "metadata": {
    "tags": []
   },
   "outputs": [],
   "source": [
    "#feature_vector = tfidf_features+stat_features\n",
    "\n",
    "\n",
    "tfidf_feature_list = list(tfidf_features)\n",
    "feature_vector = tfidf_feature_list + stat_features\n",
    "\n",
    "\n",
    "#display(feature_vector)"
   ]
  },
  {
   "cell_type": "markdown",
   "metadata": {},
   "source": [
    "#### Standardize the features \n",
    "since our statistical features are scaled in a different way to our text vectors"
   ]
  },
  {
   "cell_type": "code",
   "execution_count": 132,
   "metadata": {
    "tags": []
   },
   "outputs": [],
   "source": [
    "\n",
    "from sklearn.preprocessing import MinMaxScaler\n",
    "ss = MinMaxScaler()\n",
    "X_train_features_ = ss.fit_transform(X_train_features_)\n",
    "X_test_features_ = ss.transform(X_test_features_)\n"
   ]
  },
  {
   "cell_type": "markdown",
   "metadata": {},
   "source": [
    "## Classifier Models"
   ]
  },
  {
   "cell_type": "markdown",
   "metadata": {},
   "source": [
    "## 1. Compare classifiers\n",
    "*default params"
   ]
  },
  {
   "cell_type": "code",
   "execution_count": 175,
   "metadata": {
    "scrolled": true,
    "tags": []
   },
   "outputs": [
    {
     "name": "stdout",
     "output_type": "stream",
     "text": [
      "_code_scaled\n",
      "model:  rf log_code_scaled\n",
      " subset acc:  0.5928050052137643\n",
      " Hamming:  0.0659541188738269  jaccard:  0.5804482621509589 f1score:  0.7243159344820852\n",
      "model:  dt log_code_scaled\n",
      " subset acc:  0.4765380604796663\n",
      " Hamming:  0.0899895724713243  jaccard:  0.5089792674945831 f1score:  0.6662476868250966\n",
      "model:  gb log_code_scaled\n",
      " subset acc:  0.4947862356621481\n",
      " Hamming:  0.07205422314911367  jaccard:  0.5226736809383549 f1score:  0.6718458945275327\n",
      "model:  lsvc log_code_scaled\n",
      " subset acc:  0.4489051094890511\n",
      " Hamming:  0.08274244004171011  jaccard:  0.4877586830984731 f1score:  0.6460992113999263\n",
      "model:  svc log_code_scaled\n",
      " subset acc:  0.4197080291970803\n",
      " Hamming:  0.08112617309697602  jaccard:  0.4334208042339261 f1score:  0.5895910634487973\n",
      "model:  log log_code_scaled\n",
      " subset acc:  0.45203336809176226\n",
      " Hamming:  0.07773722627737226  jaccard:  0.48446953250792807 f1score:  0.6430510856094933\n"
     ]
    }
   ],
   "source": [
    "ks = [k] \n",
    "for k in ks:\n",
    "    print(setting)\n",
    "    model_pipelines = [('rf',Pipeline([('clf', RandomForestClassifier(random_state=500))])),\n",
    "                       ('dt',Pipeline([('clf', DecisionTreeClassifier(random_state=500))])),\n",
    "                       ('gb',Pipeline([('clf', GradientBoostingClassifier(random_state=500))])),\n",
    "                       ('lsvc',Pipeline([('clf', LinearSVC(random_state=500))])),\n",
    "                       ('svc',Pipeline([('clf', SVC(random_state=500))])),\n",
    "                       ('log',Pipeline([('clf', LogisticRegression(random_state=500))])),\n",
    "                       ]\n",
    "    \n",
    "    for pipe in model_pipelines:\n",
    "        model_name = pipe[0]\n",
    "        pipeline = pipe[1]\n",
    "        print('model: ',model_name, k)\n",
    "\n",
    "        # Multilabel classifier\n",
    "        model = OneVsRestClassifier(pipeline).fit(X_train_features_,train[labels])\n",
    "        prediction = model.predict(X_test_features_)\n",
    "        subset_acc = accuracy_score(test[labels], prediction)\n",
    "        model_name = model_name+setting\n",
    "        subset_acc_default[model_name][k] = subset_acc\n",
    "        hamming = metrics.hamming_loss(test[labels], prediction)\n",
    "        hamming_loss_default[model_name][k] = hamming\n",
    "        jaccard = metrics.jaccard_score(test[labels], prediction,average=\"weighted\")\n",
    "        f1score = metrics.f1_score(test[labels], prediction, average = 'weighted')\n",
    "        \n",
    "        jaccard_default[model_name][k] = jaccard\n",
    "        \n",
    "        f1score_default[model_name][k] = f1score\n",
    "        \n",
    "        print(' subset acc: ',subset_acc)\n",
    "        print(' Hamming: ',hamming,' jaccard: ', jaccard, 'f1score: ', f1score)\n"
   ]
  },
  {
   "cell_type": "code",
   "execution_count": 159,
   "metadata": {},
   "outputs": [],
   "source": [
    "#pd.DataFrame.from_dict(f1score_default).to_pickle(results_path+'subset_acc_default.pkl')\n",
    "#pd.DataFrame.from_dict(acc_default).to_pickle(results_path+'hamming_loss_default.pkl')\n",
    "#pd.DataFrame.from_dict(f1score_default).to_pickle(results_path+'f1score_default.pkl')\n",
    "#pd.DataFrame.from_dict(acc_default).to_pickle(results_path+'jaccard_default.pkl')"
   ]
  },
  {
   "cell_type": "code",
   "execution_count": 176,
   "metadata": {
    "tags": []
   },
   "outputs": [
    {
     "name": "stdout",
     "output_type": "stream",
     "text": [
      "rf_code_scaled log_code_scaled 0.7243159344820852\n"
     ]
    }
   ],
   "source": [
    "pd.DataFrame.from_dict(f1score_default).max().max()\n",
    "\n",
    "for k,v in f1score_default.items():\n",
    "\n",
    "    for key,value in v.items():\n",
    "        if value >= pd.DataFrame.from_dict(f1score_default).max().max():\n",
    "            print(k,key,value)"
   ]
  },
  {
   "cell_type": "code",
   "execution_count": 228,
   "metadata": {
    "tags": []
   },
   "outputs": [],
   "source": [
    "f1f = pd.DataFrame.from_dict(f1score_default)\n",
    "saf = pd.DataFrame.from_dict(subset_acc_default)\n",
    "hlf = pd.DataFrame.from_dict(hamming_loss_default)\n",
    "jcf = pd.DataFrame.from_dict(jaccard_default)\n",
    "\n",
    "\n",
    "f1score_dict, sacc_dict, hamming_dict, jaccard_dict = {},{},{},{}\n",
    "for col in f1f.columns:\n",
    "    #print(col)\n",
    "    \n",
    "    if '_scaled' in col:\n",
    "        f1score_dict[col] = round(f1f[col][0],3)\n",
    "        sacc_dict[col] = round(saf[col][0],3)\n",
    "        hamming_dict[col] = round(hlf[col][0],3)\n",
    "        jaccard_dict[col] = round(jcf[col][0],3)\n",
    "        \n",
    "        \n",
    "#print(f1f) #643051\n",
    "#print(f1score_dict[col])"
   ]
  },
  {
   "cell_type": "code",
   "execution_count": null,
   "metadata": {
    "tags": []
   },
   "outputs": [],
   "source": []
  },
  {
   "cell_type": "code",
   "execution_count": 229,
   "metadata": {
    "tags": []
   },
   "outputs": [
    {
     "data": {
      "text/html": [
       "<div>\n",
       "<style scoped>\n",
       "    .dataframe tbody tr th:only-of-type {\n",
       "        vertical-align: middle;\n",
       "    }\n",
       "\n",
       "    .dataframe tbody tr th {\n",
       "        vertical-align: top;\n",
       "    }\n",
       "\n",
       "    .dataframe thead th {\n",
       "        text-align: right;\n",
       "    }\n",
       "</style>\n",
       "<table border=\"1\" class=\"dataframe\">\n",
       "  <thead>\n",
       "    <tr style=\"text-align: right;\">\n",
       "      <th></th>\n",
       "      <th>model</th>\n",
       "      <th>subset accuracy</th>\n",
       "      <th>hamming loss</th>\n",
       "      <th>jaccard score</th>\n",
       "      <th>f1 score</th>\n",
       "    </tr>\n",
       "  </thead>\n",
       "  <tbody>\n",
       "    <tr>\n",
       "      <th>0</th>\n",
       "      <td>rf_code_scaled</td>\n",
       "      <td>0.593</td>\n",
       "      <td>0.066</td>\n",
       "      <td>0.580</td>\n",
       "      <td>0.724</td>\n",
       "    </tr>\n",
       "    <tr>\n",
       "      <th>1</th>\n",
       "      <td>dt_code_scaled</td>\n",
       "      <td>0.477</td>\n",
       "      <td>0.090</td>\n",
       "      <td>0.509</td>\n",
       "      <td>0.666</td>\n",
       "    </tr>\n",
       "    <tr>\n",
       "      <th>2</th>\n",
       "      <td>gb_code_scaled</td>\n",
       "      <td>0.495</td>\n",
       "      <td>0.072</td>\n",
       "      <td>0.523</td>\n",
       "      <td>0.672</td>\n",
       "    </tr>\n",
       "    <tr>\n",
       "      <th>3</th>\n",
       "      <td>lsvc_code_scaled</td>\n",
       "      <td>0.449</td>\n",
       "      <td>0.083</td>\n",
       "      <td>0.488</td>\n",
       "      <td>0.646</td>\n",
       "    </tr>\n",
       "    <tr>\n",
       "      <th>4</th>\n",
       "      <td>svc_code_scaled</td>\n",
       "      <td>0.420</td>\n",
       "      <td>0.081</td>\n",
       "      <td>0.433</td>\n",
       "      <td>0.590</td>\n",
       "    </tr>\n",
       "    <tr>\n",
       "      <th>5</th>\n",
       "      <td>log_code_scaled</td>\n",
       "      <td>0.452</td>\n",
       "      <td>0.078</td>\n",
       "      <td>0.484</td>\n",
       "      <td>0.643</td>\n",
       "    </tr>\n",
       "  </tbody>\n",
       "</table>\n",
       "</div>"
      ],
      "text/plain": [
       "              model  subset accuracy  hamming loss  jaccard score  f1 score\n",
       "0    rf_code_scaled            0.593         0.066          0.580     0.724\n",
       "1    dt_code_scaled            0.477         0.090          0.509     0.666\n",
       "2    gb_code_scaled            0.495         0.072          0.523     0.672\n",
       "3  lsvc_code_scaled            0.449         0.083          0.488     0.646\n",
       "4   svc_code_scaled            0.420         0.081          0.433     0.590\n",
       "5   log_code_scaled            0.452         0.078          0.484     0.643"
      ]
     },
     "execution_count": 229,
     "metadata": {},
     "output_type": "execute_result"
    }
   ],
   "source": [
    "slabel = pd.DataFrame({'model':f1score_dict.keys(),\n",
    "                       'subset accuracy':sacc_dict.values(),\n",
    "                      'hamming loss':hamming_dict.values(),\n",
    "                      'jaccard score':jaccard_dict.values(),\n",
    "                       'f1 score':f1score_dict.values()})\n",
    "#slabel.index = slabel['model']\n",
    "#slabel.to_pickle(results_path+'multi_label_results.pkl')\n",
    "slabel"
   ]
  },
  {
   "cell_type": "markdown",
   "metadata": {},
   "source": [
    "## 2. Compare Classifiers: Best parameters using GridSearchCV"
   ]
  },
  {
   "cell_type": "code",
   "execution_count": 251,
   "metadata": {
    "tags": []
   },
   "outputs": [],
   "source": [
    "results_all = {}\n",
    "subset_accuracy_all = {}\n",
    "hamming_loss_all = {}\n",
    "jaccard_sim_all = {}\n",
    "estimators_all = []\n",
    "f1_score_all = {}"
   ]
  },
  {
   "cell_type": "code",
   "execution_count": 252,
   "metadata": {
    "tags": []
   },
   "outputs": [
    {
     "name": "stdout",
     "output_type": "stream",
     "text": [
      "****** 2000 *******\n",
      "model:  rf[code]\n",
      "[0 1 2 3 4 5 6 7 8 9]\n",
      " subset acc:  0.5922836287799792\n",
      " Hamming:  0.06657977059436913  jaccard:  0.5685374119349916\n",
      " f1score:  0.709310867698974\n"
     ]
    }
   ],
   "source": [
    "from sklearn.model_selection import GridSearchCV\n",
    "from sklearn.pipeline import Pipeline\n",
    "\n",
    "# Number of trees in random forest\n",
    "n_estimators = [int(x) for x in np.linspace(start = 200, stop = 2000, num = 10)]\n",
    "# Number of features to consider at every split\n",
    "max_features = ['auto', 'sqrt']\n",
    "# Maximum number of levels in tree\n",
    "max_depth = [int(x) for x in np.linspace(10, 110, num = 11)]\n",
    "max_depth.append(None)\n",
    "# Minimum number of samples required to split a node\n",
    "min_samples_split = [2, 5, 10]\n",
    "# Minimum number of samples required at each leaf node\n",
    "min_samples_leaf = [1, 2, 4]\n",
    "# Method of selecting samples for training each tree\n",
    "bootstrap = [True, False]\n",
    "# Create the random grid\n",
    "\n",
    "parameters = {'rf':{}}\n",
    "parameters['rf']['estimator__rf__criterion'] = ['gini','entropy']\n",
    "parameters['rf']['estimator__rf__n_estimators'] = [int(x) for x in np.linspace(start = 10, stop = 100, num = 10)]\n",
    "parameters['rf']['estimator__rf__class_weight']= ['balanced', 'balanced_subsample']\n",
    "\n",
    "k = 2000\n",
    "print(\"******\",k,\"*******\")\n",
    "model_pipelines = [('rf',Pipeline([('rf', RandomForestClassifier(random_state=500))]))]\n",
    "    \n",
    "for pipe in model_pipelines:\n",
    "    model_name = pipe[0]+'['+content+']'\n",
    "    pipeline = pipe[1]\n",
    "\n",
    "    print('model: ',model_name)\n",
    "    results_all[model_name] = {}\n",
    "    # Multilabel classifier    \n",
    "    CV = GridSearchCV(OneVsRestClassifier(pipeline), parameters[pipe[0]], scoring = 'accuracy', n_jobs= 1,cv=ps)\n",
    "    CV.fit(X_train_features_,train[labels])\n",
    "    print(CV.best_estimator_.classes_)\n",
    "    \n",
    "    estimators_all.append(CV.best_estimator_)\n",
    "    \n",
    "    prediction_multi = CV.predict(X_test_features_)\n",
    "    #evaluate\n",
    "    subset_acc = accuracy_score(test[labels], prediction_multi)\n",
    "    hamming = metrics.hamming_loss(test[labels], prediction_multi)\n",
    "    jaccard = metrics.jaccard_score(test[labels], prediction_multi, average = 'weighted')\n",
    "    f1score = metrics.f1_score(test[labels], prediction_multi, average = 'weighted')\n",
    "    print(' subset acc: ',subset_acc)\n",
    "    print(' Hamming: ',hamming,' jaccard: ', jaccard)\n",
    "    print(' f1score: ',f1score)\n",
    "    subset_accuracy_all[model_name+str(k)] = subset_acc\n",
    "    hamming_loss_all[model_name+str(k)] = hamming\n",
    "    jaccard_sim_all[model_name+str(k)] = jaccard   \n",
    "    f1_score_all[model_name+str(k)] = f1score        \n"
   ]
  },
  {
   "cell_type": "code",
   "execution_count": 253,
   "metadata": {
    "tags": []
   },
   "outputs": [
    {
     "data": {
      "text/html": [
       "<style>#sk-container-id-3 {color: black;}#sk-container-id-3 pre{padding: 0;}#sk-container-id-3 div.sk-toggleable {background-color: white;}#sk-container-id-3 label.sk-toggleable__label {cursor: pointer;display: block;width: 100%;margin-bottom: 0;padding: 0.3em;box-sizing: border-box;text-align: center;}#sk-container-id-3 label.sk-toggleable__label-arrow:before {content: \"▸\";float: left;margin-right: 0.25em;color: #696969;}#sk-container-id-3 label.sk-toggleable__label-arrow:hover:before {color: black;}#sk-container-id-3 div.sk-estimator:hover label.sk-toggleable__label-arrow:before {color: black;}#sk-container-id-3 div.sk-toggleable__content {max-height: 0;max-width: 0;overflow: hidden;text-align: left;background-color: #f0f8ff;}#sk-container-id-3 div.sk-toggleable__content pre {margin: 0.2em;color: black;border-radius: 0.25em;background-color: #f0f8ff;}#sk-container-id-3 input.sk-toggleable__control:checked~div.sk-toggleable__content {max-height: 200px;max-width: 100%;overflow: auto;}#sk-container-id-3 input.sk-toggleable__control:checked~label.sk-toggleable__label-arrow:before {content: \"▾\";}#sk-container-id-3 div.sk-estimator input.sk-toggleable__control:checked~label.sk-toggleable__label {background-color: #d4ebff;}#sk-container-id-3 div.sk-label input.sk-toggleable__control:checked~label.sk-toggleable__label {background-color: #d4ebff;}#sk-container-id-3 input.sk-hidden--visually {border: 0;clip: rect(1px 1px 1px 1px);clip: rect(1px, 1px, 1px, 1px);height: 1px;margin: -1px;overflow: hidden;padding: 0;position: absolute;width: 1px;}#sk-container-id-3 div.sk-estimator {font-family: monospace;background-color: #f0f8ff;border: 1px dotted black;border-radius: 0.25em;box-sizing: border-box;margin-bottom: 0.5em;}#sk-container-id-3 div.sk-estimator:hover {background-color: #d4ebff;}#sk-container-id-3 div.sk-parallel-item::after {content: \"\";width: 100%;border-bottom: 1px solid gray;flex-grow: 1;}#sk-container-id-3 div.sk-label:hover label.sk-toggleable__label {background-color: #d4ebff;}#sk-container-id-3 div.sk-serial::before {content: \"\";position: absolute;border-left: 1px solid gray;box-sizing: border-box;top: 0;bottom: 0;left: 50%;z-index: 0;}#sk-container-id-3 div.sk-serial {display: flex;flex-direction: column;align-items: center;background-color: white;padding-right: 0.2em;padding-left: 0.2em;position: relative;}#sk-container-id-3 div.sk-item {position: relative;z-index: 1;}#sk-container-id-3 div.sk-parallel {display: flex;align-items: stretch;justify-content: center;background-color: white;position: relative;}#sk-container-id-3 div.sk-item::before, #sk-container-id-3 div.sk-parallel-item::before {content: \"\";position: absolute;border-left: 1px solid gray;box-sizing: border-box;top: 0;bottom: 0;left: 50%;z-index: -1;}#sk-container-id-3 div.sk-parallel-item {display: flex;flex-direction: column;z-index: 1;position: relative;background-color: white;}#sk-container-id-3 div.sk-parallel-item:first-child::after {align-self: flex-end;width: 50%;}#sk-container-id-3 div.sk-parallel-item:last-child::after {align-self: flex-start;width: 50%;}#sk-container-id-3 div.sk-parallel-item:only-child::after {width: 0;}#sk-container-id-3 div.sk-dashed-wrapped {border: 1px dashed gray;margin: 0 0.4em 0.5em 0.4em;box-sizing: border-box;padding-bottom: 0.4em;background-color: white;}#sk-container-id-3 div.sk-label label {font-family: monospace;font-weight: bold;display: inline-block;line-height: 1.2em;}#sk-container-id-3 div.sk-label-container {text-align: center;}#sk-container-id-3 div.sk-container {/* jupyter's `normalize.less` sets `[hidden] { display: none; }` but bootstrap.min.css set `[hidden] { display: none !important; }` so we also need the `!important` here to be able to override the default hidden behavior on the sphinx rendered scikit-learn.org. See: https://github.com/scikit-learn/scikit-learn/issues/21755 */display: inline-block !important;position: relative;}#sk-container-id-3 div.sk-text-repr-fallback {display: none;}</style><div id=\"sk-container-id-3\" class=\"sk-top-container\"><div class=\"sk-text-repr-fallback\"><pre>OneVsRestClassifier(estimator=Pipeline(steps=[(&#x27;rf&#x27;,\n",
       "                                               RandomForestClassifier(class_weight=&#x27;balanced&#x27;,\n",
       "                                                                      n_estimators=60,\n",
       "                                                                      random_state=500))]))</pre><b>In a Jupyter environment, please rerun this cell to show the HTML representation or trust the notebook. <br />On GitHub, the HTML representation is unable to render, please try loading this page with nbviewer.org.</b></div><div class=\"sk-container\" hidden><div class=\"sk-item sk-dashed-wrapped\"><div class=\"sk-label-container\"><div class=\"sk-label sk-toggleable\"><input class=\"sk-toggleable__control sk-hidden--visually\" id=\"sk-estimator-id-8\" type=\"checkbox\" ><label for=\"sk-estimator-id-8\" class=\"sk-toggleable__label sk-toggleable__label-arrow\">OneVsRestClassifier</label><div class=\"sk-toggleable__content\"><pre>OneVsRestClassifier(estimator=Pipeline(steps=[(&#x27;rf&#x27;,\n",
       "                                               RandomForestClassifier(class_weight=&#x27;balanced&#x27;,\n",
       "                                                                      n_estimators=60,\n",
       "                                                                      random_state=500))]))</pre></div></div></div><div class=\"sk-parallel\"><div class=\"sk-parallel-item\"><div class=\"sk-item\"><div class=\"sk-label-container\"><div class=\"sk-label sk-toggleable\"><input class=\"sk-toggleable__control sk-hidden--visually\" id=\"sk-estimator-id-9\" type=\"checkbox\" ><label for=\"sk-estimator-id-9\" class=\"sk-toggleable__label sk-toggleable__label-arrow\">estimator: Pipeline</label><div class=\"sk-toggleable__content\"><pre>Pipeline(steps=[(&#x27;rf&#x27;,\n",
       "                 RandomForestClassifier(class_weight=&#x27;balanced&#x27;,\n",
       "                                        n_estimators=60, random_state=500))])</pre></div></div></div><div class=\"sk-serial\"><div class=\"sk-item\"><div class=\"sk-serial\"><div class=\"sk-item\"><div class=\"sk-estimator sk-toggleable\"><input class=\"sk-toggleable__control sk-hidden--visually\" id=\"sk-estimator-id-10\" type=\"checkbox\" ><label for=\"sk-estimator-id-10\" class=\"sk-toggleable__label sk-toggleable__label-arrow\">RandomForestClassifier</label><div class=\"sk-toggleable__content\"><pre>RandomForestClassifier(class_weight=&#x27;balanced&#x27;, n_estimators=60,\n",
       "                       random_state=500)</pre></div></div></div></div></div></div></div></div></div></div></div></div>"
      ],
      "text/plain": [
       "OneVsRestClassifier(estimator=Pipeline(steps=[('rf',\n",
       "                                               RandomForestClassifier(class_weight='balanced',\n",
       "                                                                      n_estimators=60,\n",
       "                                                                      random_state=500))]))"
      ]
     },
     "execution_count": 253,
     "metadata": {},
     "output_type": "execute_result"
    }
   ],
   "source": [
    "estimators_all.append(\"test\")\n",
    "\n",
    "estimators_all\n",
    "\n",
    "\n",
    "CV.best_estimator_"
   ]
  },
  {
   "cell_type": "code",
   "execution_count": 254,
   "metadata": {
    "tags": []
   },
   "outputs": [
    {
     "name": "stdout",
     "output_type": "stream",
     "text": [
      "                      precision    recall  f1-score   support\n",
      "\n",
      "    helper_functions       0.92      0.81      0.86       286\n",
      "           load_data       0.89      0.65      0.75       191\n",
      "  data_preprocessing       0.70      0.76      0.73       437\n",
      "    data_exploration       0.81      0.79      0.80       801\n",
      "           modelling       0.75      0.57      0.65       361\n",
      "          evaluation       0.77      0.31      0.44       171\n",
      "          prediction       0.69      0.32      0.44        90\n",
      "result_visualization       0.44      0.15      0.23        97\n",
      "        save_results       0.84      0.53      0.65        30\n",
      "        comment_only       1.00      0.86      0.93        37\n",
      "\n",
      "           micro avg       0.79      0.67      0.72      2501\n",
      "           macro avg       0.78      0.58      0.65      2501\n",
      "        weighted avg       0.78      0.67      0.71      2501\n",
      "         samples avg       0.74      0.71      0.71      2501\n",
      "\n"
     ]
    }
   ],
   "source": [
    "print(classification_report(test[labels], prediction_multi, target_names=labels))"
   ]
  },
  {
   "cell_type": "code",
   "execution_count": 255,
   "metadata": {
    "tags": []
   },
   "outputs": [
    {
     "name": "stdout",
     "output_type": "stream",
     "text": [
      "1    1445\n",
      "2     384\n",
      "3      68\n",
      "4      21\n",
      "Name: count, dtype: int64\n",
      "1    1474\n",
      "2     261\n",
      "0     142\n",
      "3      38\n",
      "5       2\n",
      "4       1\n",
      "Name: count, dtype: int64\n"
     ]
    }
   ],
   "source": [
    "rowsums = test[labels].iloc[:,0:].sum(axis=1)\n",
    "true=rowsums.value_counts()\n",
    "print(true)\n",
    "rowsums = pd.DataFrame(prediction_multi).iloc[:,0:].sum(axis=1)\n",
    "pred=rowsums.value_counts()\n",
    "print(pred)"
   ]
  },
  {
   "cell_type": "code",
   "execution_count": 259,
   "metadata": {
    "tags": []
   },
   "outputs": [],
   "source": [
    "idxs, types, values = [], [], []\n",
    "for idx in pred.index.values:\n",
    "    try:\n",
    "        values.append(pred.iloc[idx]) \n",
    "        types.append('pred')\n",
    "        idxs.append(idx)\n",
    "    except:\n",
    "        values.append(0)\n",
    "        types.append('pred')\n",
    "        idxs.append(idx)\n",
    "    try:\n",
    "        values.append(true.iloc[idx])\n",
    "        types.append('true')\n",
    "        idxs.append(idx)\n",
    "    except:\n",
    "        values.append(0)\n",
    "        types.append('true')\n",
    "        idxs.append(idx)\n",
    "plot = pd.DataFrame({'no of labels':idxs,'% distribution':values,'type':types})\n",
    "\n",
    "\n",
    "\n",
    "\n",
    "\n",
    "\n"
   ]
  },
  {
   "cell_type": "code",
   "execution_count": 264,
   "metadata": {
    "tags": []
   },
   "outputs": [
    {
     "name": "stderr",
     "output_type": "stream",
     "text": [
      "The PostScript backend does not support transparency; partially transparent artists will be rendered opaque.\n"
     ]
    },
    {
     "data": {
      "image/png": "[encoded data removed]",
      "text/plain": [
       "<Figure size 500x500 with 1 Axes>"
      ]
     },
     "metadata": {},
     "output_type": "display_data"
    }
   ],
   "source": [
    "sns.set(rc={'figure.figsize':(9,3)})\n",
    "g = sns.catplot(y = '% distribution', x ='no of labels', hue='type', data=plot, kind='bar',legend=False)    \n",
    "title = \"Labels per cell\"\n",
    "for ax in g.axes.ravel():\n",
    "    for p in ax.patches:\n",
    "        ax.annotate(format(p.get_height(), '.0f'), \n",
    "                   (p.get_x() + p.get_width()-0.2,p.get_y()+p.get_height()), \n",
    "                   ha = 'center', va = 'center', \n",
    "                   xytext = (0, 9), \n",
    "                   textcoords = 'offset points',\n",
    "                   fontsize=10)\n",
    "#ax.xaxis.grid(False)\n",
    "ax.set_xlabel(\"% of code cells in the dataset\",fontsize=12,fontweight='bold')\n",
    "ax.set_ylabel(\"\",fontsize=12,fontweight='bold')\n",
    "ax.tick_params(axis='both', which='major', labelsize=12)\n",
    "ax.tick_params(axis='both', which='minor', labelsize=12)\n",
    "#axes=plt.gca()\n",
    "ax.set(ylim=(0, 1750))\n",
    "plt.legend(loc='upper right')\n",
    "plt.tight_layout()\n",
    "plt.savefig(results_path+'labeldistribution.eps', format='eps')"
   ]
  },
  {
   "cell_type": "code",
   "execution_count": 261,
   "metadata": {
    "tags": []
   },
   "outputs": [],
   "source": [
    "dfpred = pd.DataFrame(prediction_multi,columns=labels)\n",
    "dfpred['filename'] = df2.filename\n",
    "dfpred.to_pickle(results_path+'prediction_multi.pkl')"
   ]
  }
 ],
 "metadata": {
  "kernelspec": {
   "display_name": "Python 3 (ipykernel)",
   "language": "python",
   "name": "python3"
  },
  "language_info": {
   "codemirror_mode": {
    "name": "ipython",
    "version": 3
   },
   "file_extension": ".py",
   "mimetype": "text/x-python",
   "name": "python",
   "nbconvert_exporter": "python",
   "pygments_lexer": "ipython3",
   "version": "3.11.5"
  }
 },
 "nbformat": 4,
 "nbformat_minor": 4
}
