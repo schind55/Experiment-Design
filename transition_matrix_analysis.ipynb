{
 "cells": [
  {
   "cell_type": "markdown",
   "metadata": {},
   "source": [
    "## Data Science Lifecyle: Transition Probability Analysis"
   ]
  },
  {
   "cell_type": "code",
   "execution_count": null,
   "metadata": {},
   "outputs": [],
   "source": [
    "# import libraries\n",
    "import os \n",
    "from os import listdir\n",
    "from os.path import isfile, join\n",
    "from os.path import dirname as up\n",
    "\n",
    "import random\n",
    "import json\n",
    "import numpy as np\n",
    "import pandas as pd\n",
    "from shutil import copyfile,copy\n",
    "import itertools\n",
    "from glob import glob\n",
    "from collections import Counter\n",
    "\n",
    "import matplotlib.pyplot as plt\n",
    "import seaborn as sns\n",
    "sns.set_style(\"darkgrid\")"
   ]
  },
  {
   "cell_type": "code",
   "execution_count": null,
   "metadata": {},
   "outputs": [],
   "source": [
    "# set path\n",
    "path = os.getcwd()\n",
    "\n",
    "features_path = os.path.join(path,'features','')\n",
    "results_path = os.path.join(path,'results','f_transition_probabilities','')\n",
    "\n",
    "if os.path.exists(results_path):\n",
    "    pass\n",
    "else:\n",
    "    os.mkdir(results_path)"
   ]
  },
  {
   "cell_type": "code",
   "execution_count": null,
   "metadata": {},
   "outputs": [],
   "source": [
    "# load the features of notebook dataset\n",
    "features_df = pd.read_pickle(features_path+'f_DASWOW.pkl') \n",
    "df = features_df.copy()\n",
    "df.index = range(features_df.shape[0])\n",
    "df['execution_count'].fillna(-1,inplace=True) # if no execution count is available, set it to -1\n",
    "print(len(set(df.filename.values)),features_df.shape)"
   ]
  },
  {
   "cell_type": "code",
   "execution_count": null,
   "metadata": {},
   "outputs": [],
   "source": [
    "### steps in a data science notebook life cycle\n",
    "labels = ['helper_functions','load_data','data_exploration','data_preprocessing',\n",
    "              'modelling','evaluation','prediction','result_visualization','save_results','comment_only']"
   ]
  },
  {
   "cell_type": "code",
   "execution_count": null,
   "metadata": {},
   "outputs": [],
   "source": [
    "filegroup = df.groupby(['filename'])\n",
    "label_count_per_cell = df[labels].sum(axis=1).values\n",
    "print(\"no. of cells with single label in the dataset: {0}\".format(len([l for l in label_count_per_cell if l==1])))\n",
    "all_nbs = list(set(df.filename.values))"
   ]
  },
  {
   "cell_type": "code",
   "execution_count": null,
   "metadata": {},
   "outputs": [],
   "source": [
    "#### number of cells with only one label\n",
    "single_label_indices = [i for i in range(df.shape[0]) if label_count_per_cell[i]== 1]\n",
    "df.iloc[single_label_indices].shape\n",
    "\n",
    "#### number of notebooks with only one label per cell\n",
    "single_label_nbs = []\n",
    "for k,v in filegroup:\n",
    "    if len(v.index.values) == len(set(single_label_indices).intersection(set(v.index.values))):\n",
    "        single_label_nbs.append(k)\n",
    "print(\"no. of cells with one label per cell throughout: {0} equaling {1:.2f}% of the dataset\".format(len(single_label_nbs),len(single_label_nbs)/len(set(df.filename.values))*100))\n",
    "\n",
    "#### get a dataframe with notebooks that have only one labels per cell throughout\n",
    "single_label_df = df[df.filename.isin(single_label_nbs)]\n",
    "\n",
    "#check that the notebooks have only one label per cell throughout\n",
    "label_count = single_label_df[labels].sum(axis=1).values\n",
    "set(label_count)"
   ]
  },
  {
   "cell_type": "code",
   "execution_count": null,
   "metadata": {},
   "outputs": [],
   "source": [
    "def plot_transition_matrix(mat,freq,typ):\n",
    "    if typ == 'no':\n",
    "        labels = (np.asarray([\"{0:.2f} \\n [{1}]\".format(pvalue,fvalue) for pvalue,fvalue in zip(mat.to_numpy().flatten(),freq.to_numpy().flatten())])).reshape(mat.shape[0],mat.shape[1])        \n",
    "    else:\n",
    "        labels = (np.asarray([\"{0:.2f} \\n [{1:.2f}%]\".format(pvalue,fvalue) for pvalue,fvalue in zip(mat.to_numpy().flatten(),freq.to_numpy().flatten())])).reshape(mat.shape[0],mat.shape[1])        \n",
    "        \n",
    "    fig,ax = plt.subplots(figsize=(12,9))\n",
    "    ax = sns.heatmap(\n",
    "        mat,\n",
    "        annot = labels,\n",
    "        fmt = \"\",\n",
    "        cmap=sns.diverging_palette(20, 220, n=200),\n",
    "        linewidths = 1,\n",
    "        robust=True, center=0\n",
    "    )\n",
    "    ax.set_xticklabels(\n",
    "        ax.get_xticklabels(),\n",
    "        rotation=90,\n",
    "        horizontalalignment='right'\n",
    "    );\n",
    "    \n",
    "    ax.set_xlabel(\"next state\",fontsize=12,fontweight='bold')\n",
    "    ax.set_ylabel(\"current state\",fontsize=12,fontweight='bold')"
   ]
  },
  {
   "cell_type": "code",
   "execution_count": null,
   "metadata": {},
   "outputs": [],
   "source": [
    "dfpred = pd.read_pickle(os.path.join(path,'results','multi-label-classification','')+'prediction_multi.pkl')\n",
    "pred_nbs = list(set(dfpred.filename.values))\n",
    "pred_filegroup = dfpred.groupby(['filename'])"
   ]
  },
  {
   "cell_type": "markdown",
   "metadata": {},
   "source": [
    "### N-order markov analysis "
   ]
  },
  {
   "cell_type": "code",
   "execution_count": null,
   "metadata": {},
   "outputs": [],
   "source": [
    "#set states for calculating transition probabilities\n",
    "states = ['start','helper_functions','load_data','data_exploration','data_preprocessing',\n",
    "              'modelling','evaluation','prediction','result_visualization','save_results','comment_only','stop']"
   ]
  },
  {
   "cell_type": "code",
   "execution_count": null,
   "metadata": {},
   "outputs": [],
   "source": [
    "# calculate possible starting states\n",
    "n = 1 # set n for n-order markov\n",
    "t = 0\n",
    "\n",
    "current_states = [perm for perm in itertools.permutations(states, n)]\n",
    "for s in states:\n",
    "    tup = tuple([s]*n)\n",
    "    sval = [s[0] for s in current_states]\n",
    "    if tup not in current_states:\n",
    "        ind = max(loc for loc, val in enumerate(sval) if val == s)+states.index(s)\n",
    "        if t == 0:\n",
    "            t = max(loc for loc, val in enumerate(sval) if val == s)\n",
    "        else:\n",
    "            t = t+1\n",
    "        current_states.insert(ind-t,tup)\n",
    "for i in range(len(current_states)):\n",
    "    if len(current_states[i])==1:\n",
    "        current_states[i] = current_states[i][0]\n"
   ]
  },
  {
   "cell_type": "markdown",
   "metadata": {},
   "source": [
    "### Extract the transitions\n",
    "all_nbs for true label probabilities stored in tmatrix1\n",
    "and \n",
    "pred_nbs for prediction label probabilities stored in tmatrix2"
   ]
  },
  {
   "cell_type": "code",
   "execution_count": null,
   "metadata": {},
   "outputs": [],
   "source": [
    "#### extract the transactions\n",
    "prob_strategy = 'equal'\n",
    "transitions,t_freq = {},{}\n",
    "\n",
    "for nb in pred_nbs: \n",
    "    osequence = [['start']]\n",
    "    for each in pred_filegroup.get_group(nb)[labels].values: #filegroup for true and pred_filegroup for prediction\n",
    "        osequence.append([labels[i] for i in range(len(each)) if each[i]==1])\n",
    "    osequence.append(['stop'])\n",
    "    sequence = osequence.copy()\n",
    "    for i in range(len(sequence)):\n",
    "        if i < len(sequence)-n:\n",
    "            key = sequence[i] \n",
    "            value = sequence[i+n] #next state      \n",
    "            \n",
    "            sstates = []\n",
    "            for each in key:\n",
    "                if type(each)==list:\n",
    "                    for e in each:\n",
    "                        sstates.append(e)\n",
    "                else:\n",
    "                    sstates.append(each)\n",
    "            tstates = []\n",
    "            for each in value:\n",
    "                if type(each)==list:\n",
    "                    for e in each:\n",
    "                        tstates.append(e)\n",
    "                else:\n",
    "                    tstates.append(each)\n",
    "            start_states = [perm for perm in itertools.permutations(sstates, len(sstates))] \n",
    "            terminal_states = [perm for perm in itertools.permutations(tstates, len(tstates))] \n",
    "            prob_weight = 1/(len(start_states)*len(terminal_states))\n",
    "            for s in start_states:\n",
    "                for t in terminal_states:\n",
    "                    sseq = list(s+t)\n",
    "                    #print(sseq)\n",
    "                    for j in range(len(sseq)):\n",
    "                        if j < len(sseq)-1:\n",
    "                            k = sseq[j] \n",
    "                            v = sseq[j+n] #next state\n",
    "                            if k not in transitions.keys():\n",
    "                                transitions[k],t_freq[k] = {},{}\n",
    "                                if (prob_strategy == 'equal') or (prob_weight==1):\n",
    "                                    transitions[k][v] = prob_weight\n",
    "                                else:\n",
    "                                    transitions[k][v] = tmatrix1_prob.loc[k][v]\n",
    "                                t_freq[k][v] = 1\n",
    "                            else:\n",
    "                                if v not in transitions[k].keys():\n",
    "                                    if (prob_strategy == 'equal') or (prob_weight==1):\n",
    "                                        transitions[k][v] = prob_weight\n",
    "                                    else:\n",
    "                                        transitions[k][v] = tmatrix1_prob.loc[k][v]\n",
    "                                    t_freq[k][v] = 1\n",
    "                                else:\n",
    "                                    if (prob_strategy == 'equal') or (prob_weight==1):\n",
    "                                        transitions[k][v] = transitions[k][v]+prob_weight\n",
    "                                    else:\n",
    "                                        transitions[k][v] = transitions[k][v]+tmatrix1_prob.loc[k][v]\n",
    "                                    t_freq[k][v] = t_freq[k][v]+1\n",
    "            #print()\n",
    "            "
   ]
  },
  {
   "cell_type": "code",
   "execution_count": null,
   "metadata": {},
   "outputs": [],
   "source": [
    "print(\"possible current states: \",len(current_states), \n",
    "      \"actual current states: \", len(set(current_states).intersection(set(transitions.keys()))))"
   ]
  },
  {
   "cell_type": "code",
   "execution_count": null,
   "metadata": {},
   "outputs": [],
   "source": [
    "### print out frequencies: which current sequences occur mostly\n",
    "unsorted_frequency_dict = {k: sum(v.values()) for k,v in transitions.items()} #sum(v.values()) or len(v)\n",
    "frequency_dict = dict(sorted(unsorted_frequency_dict.items(), key=lambda item: item[1], reverse=True))"
   ]
  },
  {
   "cell_type": "code",
   "execution_count": null,
   "metadata": {},
   "outputs": [],
   "source": [
    "### generate transition matrix\n",
    "tmatrix_cols = states[:]\n",
    "tmatrix_cols.remove('start')"
   ]
  },
  {
   "cell_type": "code",
   "execution_count": null,
   "metadata": {},
   "outputs": [],
   "source": [
    "if n == 1:\n",
    "    tmatrix_rows = [s for s in current_states if s in set(transitions.keys())]\n",
    "elif n == 2:\n",
    "    new_states = [(val[1],val[0]) for val in current_states]\n",
    "    #print(new_states)\n",
    "    tmatrix_rows = [s for s in new_states if s in set(transitions.keys())]\n",
    "print(tmatrix_rows,tmatrix_cols)"
   ]
  },
  {
   "cell_type": "markdown",
   "metadata": {},
   "source": [
    "### Trnasition matrix with all labels using equal probability strategy"
   ]
  },
  {
   "cell_type": "code",
   "execution_count": null,
   "metadata": {},
   "outputs": [],
   "source": [
    "# for true transitions, execute this\n",
    "transitions_all_equal = transitions\n",
    "t_freq_all_equal = t_freq"
   ]
  },
  {
   "cell_type": "code",
   "execution_count": null,
   "metadata": {},
   "outputs": [],
   "source": [
    "# for prediction transitions, execute this\n",
    "predtransitions_all_equal = transitions\n",
    "predt_freq_all_equal = t_freq"
   ]
  },
  {
   "cell_type": "code",
   "execution_count": null,
   "metadata": {},
   "outputs": [],
   "source": [
    "### generate transition matrix\n",
    "tmatrix = pd.DataFrame(index=pd.Index(tmatrix_rows), columns = tmatrix_cols)\n",
    "for k,v in transitions.items():\n",
    "    c = Counter(v)\n",
    "    #print(k,c)\n",
    "    for key,val in c.items():\n",
    "        #print(k,key,val)\n",
    "        tmatrix.loc[k,key] = round(val,2)\n",
    "tmatrix.fillna(0,inplace=True)"
   ]
  },
  {
   "cell_type": "code",
   "execution_count": null,
   "metadata": {},
   "outputs": [],
   "source": [
    "tmatrix1_freq = tmatrix.reindex(tmatrix_rows)\n",
    "tmatrix2_freq = tmatrix.reindex(tmatrix_rows)"
   ]
  },
  {
   "cell_type": "code",
   "execution_count": null,
   "metadata": {},
   "outputs": [],
   "source": [
    "# calculate transition probabilities\n",
    "tmatrix.loc[:,tmatrix_cols] = tmatrix.loc[:,tmatrix_cols].div(tmatrix.sum(axis=1), axis=0)"
   ]
  },
  {
   "cell_type": "code",
   "execution_count": null,
   "metadata": {},
   "outputs": [],
   "source": [
    "tmatrix1_prob = tmatrix.reindex(tmatrix_rows)\n",
    "tmatrix2_prob = tmatrix.reindex(tmatrix_rows)"
   ]
  },
  {
   "cell_type": "code",
   "execution_count": null,
   "metadata": {},
   "outputs": [],
   "source": [
    "tmatrix1 = tmatrix.reindex(tmatrix_rows).copy()\n",
    "tmatrix2 = tmatrix.reindex(tmatrix_rows).copy()"
   ]
  },
  {
   "cell_type": "code",
   "execution_count": null,
   "metadata": {},
   "outputs": [],
   "source": [
    "tmatrix1_prob.to_pickle(results_path+'truetmequal.pkl')\n",
    "tmatrix2_prob.to_pickle(results_path+'predtmequal.pkl')"
   ]
  },
  {
   "cell_type": "code",
   "execution_count": null,
   "metadata": {},
   "outputs": [],
   "source": [
    "plot_transition_matrix(tmatrix1,tmatrix1_freq,'no')\n",
    "plt.tight_layout()\n",
    "plt.savefig(results_path+'transitionprobabilitiesequal.eps',format='eps')\n",
    "# Show the plot\n",
    "plt.show()"
   ]
  },
  {
   "cell_type": "code",
   "execution_count": null,
   "metadata": {},
   "outputs": [],
   "source": [
    "tmatrix2_prob.to_pickle(results_path+'predtmequal.pkl')\n",
    "plot_transition_matrix(tmatrix2,tmatrix2_freq,'no')\n",
    "plt.tight_layout()\n",
    "plt.savefig(results_path+'transitionprobabilitiespred.eps',format='eps')\n",
    "# Show the plot\n",
    "plt.show()"
   ]
  },
  {
   "cell_type": "markdown",
   "metadata": {},
   "source": [
    "## Correlation Analysis\n",
    "between the transition probabilities of true set states and predicted set states"
   ]
  },
  {
   "cell_type": "code",
   "execution_count": null,
   "metadata": {},
   "outputs": [],
   "source": [
    "#comparison of true transitional probabilities vs prediction transition probabilities\n",
    "corr = tmatrix1.corrwith(tmatrix2, axis = 1, method='kendall')\n",
    "print(corr)\n",
    "print(np.mean(corr.values))\n",
    "#corr.to_latex()"
   ]
  },
  {
   "cell_type": "code",
   "execution_count": null,
   "metadata": {},
   "outputs": [],
   "source": [
    "from sklearn.metrics import mean_squared_error \n",
    "from scipy.stats import spearmanr,kendalltau\n",
    "    \n",
    "# calculate kendall's correlation\n",
    "for l in tmatrix1.index.values:\n",
    "    print(l)\n",
    "    coef, p = kendalltau(tmatrix1.loc[l], tmatrix2.loc[l])\n",
    "    print('Kendall correlation coefficient: %.3f' % coef)\n",
    "    # interpret the significance\n",
    "    alpha = 0.05\n",
    "    if p > alpha:\n",
    "        print('Samples are uncorrelated (fail to reject H0) p=%.3f' % p)\n",
    "    else:\n",
    "        print('Samples are correlated (reject H0) p=%.3f' % p)\n",
    "    print()"
   ]
  },
  {
   "cell_type": "markdown",
   "metadata": {},
   "source": [
    "### Sankey visualisation"
   ]
  },
  {
   "cell_type": "code",
   "execution_count": null,
   "metadata": {},
   "outputs": [],
   "source": [
    "tmatrix1 = pd.read_pickle(results_path+'truetmequal.pkl')\n",
    "tmatrix2 = pd.read_pickle(results_path+'predtmequal.pkl')"
   ]
  },
  {
   "cell_type": "code",
   "execution_count": null,
   "metadata": {},
   "outputs": [],
   "source": [
    "sankey_label = ['start',\n",
    " 'helper_functions',\n",
    " 'load_data',\n",
    " 'data_exploration',\n",
    " 'data_preprocessing',\n",
    " 'modelling',\n",
    " 'evaluation',\n",
    " 'prediction',\n",
    " 'result_visualization',\n",
    " 'save_results',\n",
    " 'comment_only',\n",
    " 'stop']\n",
    "\n",
    "colors = ['rgba(31, 119, 180, 0.8)',\n",
    " 'rgba(255, 127, 14, 0.8)',\n",
    " 'rgba(44, 160, 44, 0.8)',\n",
    " 'rgba(214, 39, 40, 0.8)',\n",
    " 'rgba(148, 103, 189, 0.8)',\n",
    " 'rgba(140, 86, 75, 0.8)',\n",
    " 'rgba(227, 119, 194, 0.8)',\n",
    " 'rgba(127, 127, 127, 0.8)',\n",
    " 'rgba(188, 189, 34, 0.8)',\n",
    " 'rgba(23, 190, 207, 0.8)',\n",
    " 'rgba(181, 11, 180, 0.8)',\n",
    " 'rgba(255, 127, 14, 0.8)']"
   ]
  },
  {
   "cell_type": "code",
   "execution_count": null,
   "metadata": {},
   "outputs": [],
   "source": [
    "#probability_sankey\n",
    "source,target,value = [],[],[]\n",
    "for s in tmatrix1.index.values:\n",
    "    for t in tmatrix1.columns.values:\n",
    "        pval = round(tmatrix1.loc[s][t],2)\n",
    "        if pval>=0.05:\n",
    "            source.append(sankey_label.index(s))\n",
    "            target.append(sankey_label.index(t))\n",
    "            value.append(pval)\n",
    "            \n",
    "link_colors = [colors[src].replace(\"0.8\", str(0.5))\n",
    "                                    for src in source]"
   ]
  },
  {
   "cell_type": "code",
   "execution_count": null,
   "metadata": {},
   "outputs": [],
   "source": [
    "import plotly.graph_objects as go\n",
    "\n",
    "def plot_sankey(sankey_label,colors,source,target,value,link_colors,title):\n",
    "    fig = go.Figure(data=[go.Sankey(\n",
    "        valueformat = \".0f\",\n",
    "        valuesuffix = \"\",\n",
    "        orientation = \"v\",\n",
    "        # Define nodes\n",
    "        node = dict(\n",
    "          pad = 30,\n",
    "          thickness = 15,\n",
    "          line = dict(color = \"black\", width = 0.8),\n",
    "          label = sankey_label,\n",
    "          color = colors,\n",
    "        #x= [-0.05, 0.1, 0.2, 0.33, 0.43, 0.58, 0.7, 0.8, 0.9,  -0.05, -0.05, 0],\n",
    "        #y= [0.5,   0.6, 0.55, 0.6, 0.5,  0.6, 0.55, 0.6,  0.55,   0.1, 0.3, 0.1]\n",
    "        ),\n",
    "        # Define links\n",
    "        link = dict(\n",
    "          source = source, # indices correspond to labels, eg A1, A2, A1, B1, ...\n",
    "          target = target,\n",
    "          value = value,\n",
    "            label = value,\n",
    "          color = link_colors\n",
    "      ))])\n",
    "\n",
    "    fig.update_layout(\n",
    "        autosize=False,\n",
    "        width=1800,\n",
    "        height=1300,\n",
    "        font_size=9)\n",
    "    fig.write_image(results_path+title+\".eps\")\n",
    "    #fig.show(renderer='svg')\n",
    "    \n",
    "    "
   ]
  },
  {
   "cell_type": "code",
   "execution_count": null,
   "metadata": {},
   "outputs": [],
   "source": [
    "# p>=0.00 (equal strategy)\n",
    "plot_sankey(sankey_label,colors,source,target,value,link_colors,\"truesankeydiagram\")\n"
   ]
  },
  {
   "cell_type": "code",
   "execution_count": null,
   "metadata": {},
   "outputs": [],
   "source": [
    "#probability_sankey\n",
    "source,target,value = [],[],[]\n",
    "for s in tmatrix2.index.values:\n",
    "    for t in tmatrix2.columns.values:\n",
    "        pval = round(tmatrix2.loc[s][t],2)\n",
    "        if pval>=0.05:\n",
    "            source.append(sankey_label.index(s))\n",
    "            target.append(sankey_label.index(t))\n",
    "            value.append(pval)\n",
    "            \n",
    "link_colors = [colors[src].replace(\"0.8\", str(0.5))\n",
    "                                    for src in source]"
   ]
  },
  {
   "cell_type": "code",
   "execution_count": null,
   "metadata": {},
   "outputs": [],
   "source": [
    "# p>0.02 (equal strategy)\n",
    "plot_sankey(sankey_label,colors,source,target,value,link_colors,\"predictedsankeydiagram\")"
   ]
  },
  {
   "cell_type": "code",
   "execution_count": null,
   "metadata": {},
   "outputs": [],
   "source": []
  }
 ],
 "metadata": {
  "kernelspec": {
   "display_name": "Python 3",
   "language": "python",
   "name": "python3"
  },
  "language_info": {
   "codemirror_mode": {
    "name": "ipython",
    "version": 3
   },
   "file_extension": ".py",
   "mimetype": "text/x-python",
   "name": "python",
   "nbconvert_exporter": "python",
   "pygments_lexer": "ipython3",
   "version": "3.11.5"
  }
 },
 "nbformat": 4,
 "nbformat_minor": 4
}
